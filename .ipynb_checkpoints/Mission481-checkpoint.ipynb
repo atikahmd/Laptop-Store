{
 "cells": [
  {
   "cell_type": "markdown",
   "metadata": {},
   "source": [
    "# Inventory Analysis for Alyssa's Online Laptop Store\n",
    "\n",
    "In this project, the aim is to answer several questions regarding the store's inventory. A class is used whereby its method will implement queries that answer questions like:\n",
    "\n",
    "1. Given a laptop ID, find the corresponding data\n",
    "2. Find whether there are 2 laptops whose total price is equivalent to a given amount\n",
    "3. Identify all laptops whose price fall within a given budget\n",
    "\n",
    "The data set used here have modified laptop IDs and the prices are made to be in integers. The original data set can be found on [Kaggle](https://www.kaggle.com/ionaskel/laptop-prices). \n",
    "\n",
    "# Introduction\n",
    "\n",
    "The `csv` module is used to read `laptops.csv` inventory data file. The header and the rest of the file are split into `header` and `rows`."
   ]
  },
  {
   "cell_type": "code",
   "execution_count": 1,
   "metadata": {
    "scrolled": true
   },
   "outputs": [
    {
     "name": "stdout",
     "output_type": "stream",
     "text": [
      "['Id', 'Company', 'Product', 'TypeName', 'Inches', 'ScreenResolution', 'Cpu', 'Ram', 'Memory', 'Gpu', 'OpSys', 'Weight', 'Price']\n",
      "['6571244', 'Apple', 'MacBook Pro', 'Ultrabook', '13.3', 'IPS Panel Retina Display 2560x1600', 'Intel Core i5 2.3GHz', '8GB', '128GB SSD', 'Intel Iris Plus Graphics 640', 'macOS', '1.37kg', '1339']\n",
      "['7287764', 'Apple', 'Macbook Air', 'Ultrabook', '13.3', '1440x900', 'Intel Core i5 1.8GHz', '8GB', '128GB Flash Storage', 'Intel HD Graphics 6000', 'macOS', '1.34kg', '898']\n",
      "['3362737', 'HP', '250 G6', 'Notebook', '15.6', 'Full HD 1920x1080', 'Intel Core i5 7200U 2.5GHz', '8GB', '256GB SSD', 'Intel HD Graphics 620', 'No OS', '1.86kg', '575']\n",
      "['9722156', 'Apple', 'MacBook Pro', 'Ultrabook', '15.4', 'IPS Panel Retina Display 2880x1800', 'Intel Core i7 2.7GHz', '16GB', '512GB SSD', 'AMD Radeon Pro 455', 'macOS', '1.83kg', '2537']\n",
      "['8550527', 'Apple', 'MacBook Pro', 'Ultrabook', '13.3', 'IPS Panel Retina Display 2560x1600', 'Intel Core i5 3.1GHz', '8GB', '256GB SSD', 'Intel Iris Plus Graphics 650', 'macOS', '1.37kg', '1803']\n"
     ]
    }
   ],
   "source": [
    "import csv\n",
    "\n",
    "# Open file with context manager\n",
    "with open('laptops.csv') as laptop:\n",
    "    reader = csv.reader(laptop)\n",
    "    rows = list(reader)\n",
    "    header = rows[0]\n",
    "    rows = rows[1:]\n",
    "    \n",
    "print(header)\n",
    "for i in range(5):\n",
    "    print(rows[i])"
   ]
  },
  {
   "cell_type": "markdown",
   "metadata": {},
   "source": [
    "# Class Implementation\n",
    "\n",
    "Add some description"
   ]
  },
  {
   "cell_type": "code",
   "execution_count": 2,
   "metadata": {},
   "outputs": [
    {
     "name": "stdout",
     "output_type": "stream",
     "text": [
      "['Id', 'Company', 'Product', 'TypeName', 'Inches', 'ScreenResolution', 'Cpu', 'Ram', 'Memory', 'Gpu', 'OpSys', 'Weight', 'Price']\n",
      "1303\n"
     ]
    }
   ],
   "source": [
    "class Inventory():\n",
    "    \n",
    "    def __init__(self, csv_filename):\n",
    "        with open(csv_filename) as laptop:\n",
    "            reader = csv.reader(laptop)\n",
    "            rows = list(reader)\n",
    "        self.header = rows[0]\n",
    "        self.rows = rows[1:]\n",
    "        for row in self.rows:\n",
    "            # alternative index number is -1\n",
    "            # solution: assigns back to same var row[12]. if new var used, it'll occupy new space in memory\n",
    "            row[12] = int(row[12])\n",
    "            \n",
    "inventory = Inventory('laptops.csv')\n",
    "print(inventory.header)\n",
    "print(len(inventory.rows))"
   ]
  },
  {
   "cell_type": "markdown",
   "metadata": {},
   "source": [
    "# Finding a Laptop from the ID\n",
    "\n",
    "**TO EDIT** An identification number is used to look up details of the laptop purchased by customer. "
   ]
  },
  {
   "cell_type": "code",
   "execution_count": 3,
   "metadata": {},
   "outputs": [
    {
     "name": "stdout",
     "output_type": "stream",
     "text": [
      "['3362737', 'HP', '250 G6', 'Notebook', '15.6', 'Full HD 1920x1080', 'Intel Core i5 7200U 2.5GHz', '8GB', '256GB SSD', 'Intel HD Graphics 620', 'No OS', '1.86kg', 575]\n",
      "None\n"
     ]
    }
   ],
   "source": [
    "class Inventory():\n",
    "    \n",
    "    def __init__(self, csv_filename):\n",
    "        with open(csv_filename) as laptop:\n",
    "            reader = csv.reader(laptop)\n",
    "            rows = list(reader)\n",
    "        self.header = rows[0]\n",
    "        self.rows = rows[1:]\n",
    "        for row in self.rows:\n",
    "            # alternative index number is -1\n",
    "            # solution: assigns back to same var row[12]. if new var used, it'll occupy new space in memory\n",
    "            row[12] = int(row[12])\n",
    "            \n",
    "    def get_laptop_from_id(self, laptop_id):\n",
    "        for row in self.rows:\n",
    "            if row[0] == laptop_id:\n",
    "                return row\n",
    "        return None\n",
    "                \n",
    "inventory = Inventory('laptops.csv')\n",
    "print(inventory.get_laptop_from_id('3362737'))\n",
    "print(inventory.get_laptop_from_id('3362736'))"
   ]
  },
  {
   "cell_type": "markdown",
   "metadata": {},
   "source": [
    "# Improving ID Lookups\n",
    "\n",
    "**TO EDIT** Previous method requires checking every row to find out whether or not a row exists - has *O(R)* complexity. To improve, data can be preprocessed. Usually set can be used to know if a row exists. However, in this case, we also want to retrieve the rest of information in the said row; hence dictionary is used as it allows us to associate values to the keys (`Id`). "
   ]
  },
  {
   "cell_type": "code",
   "execution_count": 4,
   "metadata": {},
   "outputs": [
    {
     "name": "stdout",
     "output_type": "stream",
     "text": [
      "['3362737', 'HP', '250 G6', 'Notebook', '15.6', 'Full HD 1920x1080', 'Intel Core i5 7200U 2.5GHz', '8GB', '256GB SSD', 'Intel HD Graphics 620', 'No OS', '1.86kg', 575]\n",
      "None\n"
     ]
    }
   ],
   "source": [
    "class Inventory():\n",
    "    \n",
    "    def __init__(self, csv_filename):\n",
    "        with open(csv_filename) as laptop:\n",
    "            reader = csv.reader(laptop)\n",
    "            rows = list(reader)\n",
    "        self.header = rows[0]\n",
    "        self.rows = rows[1:]\n",
    "        for row in self.rows:\n",
    "            # alternative index number is -1\n",
    "            # solution: assigns back to same var row[12]. if new var used, it'll occupy new space in memory\n",
    "            row[12] = int(row[12])\n",
    "        self.id_to_row = {}\n",
    "        for row in self.rows:\n",
    "            # assign 'row' to dictionary (includes the first column 'Id')\n",
    "            self.id_to_row[row[0]] = row\n",
    "            \n",
    "    def get_laptop_from_id(self, laptop_id):\n",
    "        for row in self.rows:\n",
    "            if row[0] == laptop_id:\n",
    "                return row\n",
    "        return None\n",
    "            \n",
    "    def get_laptop_from_id_fast(self, laptop_id):\n",
    "        if laptop_id in self.id_to_row:\n",
    "                return self.id_to_row[laptop_id]\n",
    "        return None\n",
    "                \n",
    "inventory = Inventory('laptops.csv')\n",
    "print(inventory.get_laptop_from_id_fast('3362737'))\n",
    "print(inventory.get_laptop_from_id_fast('3362736'))"
   ]
  },
  {
   "cell_type": "markdown",
   "metadata": {},
   "source": [
    "# Comparing the Performance\n",
    "\n",
    "**TO EDIT** To compare the performance of two methods `get_laptop_from_id()` and `get_laptop_from_id_fast()`, a random ID is generated and passed as arguments to both methods. The `time` module is used to measure the execution time of each lookup and for each method, total time taken is calculated."
   ]
  },
  {
   "cell_type": "code",
   "execution_count": 5,
   "metadata": {},
   "outputs": [
    {
     "name": "stdout",
     "output_type": "stream",
     "text": [
      "14.522733688354492\n",
      "0.07179927825927734\n"
     ]
    }
   ],
   "source": [
    "import time\n",
    "import random\n",
    "\n",
    "ids = str([random.randint(1000000, 9999999) for _ in range(10000) ])\n",
    "\n",
    "inventory = Inventory('laptops.csv')\n",
    "\n",
    "total_time_no_dict = 0\n",
    "\n",
    "for rand_id in ids:\n",
    "    start = time.time()\n",
    "    inventory.get_laptop_from_id(rand_id)\n",
    "    end = time.time()\n",
    "    total_time_no_dict += end - start\n",
    "\n",
    "total_time_dict = 0\n",
    "\n",
    "for rand_id in ids:\n",
    "    start = time.time()\n",
    "    inventory.get_laptop_from_id_fast(rand_id)\n",
    "    end = time.time()\n",
    "    total_time_dict += end - start\n",
    "\n",
    "print(total_time_no_dict)\n",
    "print(total_time_dict)"
   ]
  },
  {
   "cell_type": "markdown",
   "metadata": {},
   "source": [
    "# Analysis\n",
    "\n",
    "The total time for the two methods are:\n",
    "* Without dictionary: 9.476078987121582\n",
    "* With dictionary: 0.020602703094482422\n",
    "\n",
    "There is a major improvement in the time taken to lookup the laptop data. If we divide *9.476* by *0.021*, the second method is about 451 times faster for this input size."
   ]
  },
  {
   "cell_type": "markdown",
   "metadata": {},
   "source": [
    "# Two Laptop Promotion\n",
    "\n",
    "**TO EDIT** A gift card is given for promotion. Function below is to calculate if customer can spend precisely the gift card amount to purchase at most two laptops. "
   ]
  },
  {
   "cell_type": "code",
   "execution_count": 11,
   "metadata": {},
   "outputs": [
    {
     "name": "stdout",
     "output_type": "stream",
     "text": [
      "True\n",
      "False\n"
     ]
    }
   ],
   "source": [
    "class Inventory():\n",
    "    \n",
    "    def __init__(self, csv_filename):\n",
    "        with open(csv_filename) as laptop:\n",
    "            reader = csv.reader(laptop)\n",
    "            rows = list(reader)\n",
    "        self.header = rows[0]\n",
    "        self.rows = rows[1:]\n",
    "        for row in self.rows:\n",
    "            # alternative index number is -1\n",
    "            # solution: assigns back to same var row[12]. if new var used, it'll occupy new space in memory\n",
    "            row[12] = int(row[12])\n",
    "        \n",
    "        self.id_to_row = {}\n",
    "        for row in self.rows:\n",
    "            # assign 'row' to dictionary (includes the first column 'Id')\n",
    "            self.id_to_row[row[0]] = row\n",
    "            \n",
    "    def get_laptop_from_id(self, laptop_id):\n",
    "        for row in self.rows:\n",
    "            if row[0] == laptop_id:\n",
    "                return row\n",
    "        return None\n",
    "            \n",
    "    def get_laptop_from_id_fast(self, laptop_id):\n",
    "        if laptop_id in self.id_to_row:\n",
    "                return self.id_to_row[laptop_id]\n",
    "        return None\n",
    "    \n",
    "    def check_promotion_dollars(self, dollars):\n",
    "        for row in self.rows:\n",
    "            if row[12] == dollars:\n",
    "                return True\n",
    "            \n",
    "        for i in self.rows:\n",
    "            for j in self.rows:\n",
    "                if i[12] + j[12] == dollars:\n",
    "                    return True\n",
    "        \n",
    "        return False\n",
    "                \n",
    "inventory = Inventory('laptops.csv')\n",
    "print(inventory.check_promotion_dollars(1000))\n",
    "print(inventory.check_promotion_dollars(442))"
   ]
  },
  {
   "cell_type": "markdown",
   "metadata": {},
   "source": [
    "# Optimizing Laptop Promotion\n",
    "\n",
    "**TO EDIT** The intention of the `check_promotion_dollars()` method is to check whether or not a customer can spend the exact amount in his gift card to purchase at most two laptops; no additional information needs to be displayed. Hence, the laptop prices can be extracted and stored in a set to make the query run faster."
   ]
  },
  {
   "cell_type": "code",
   "execution_count": 15,
   "metadata": {},
   "outputs": [
    {
     "name": "stdout",
     "output_type": "stream",
     "text": [
      "True\n",
      "False\n"
     ]
    }
   ],
   "source": [
    "class Inventory():\n",
    "    \n",
    "    def __init__(self, csv_filename):\n",
    "        with open(csv_filename) as laptop:\n",
    "            reader = csv.reader(laptop)\n",
    "            rows = list(reader)\n",
    "        self.header = rows[0]\n",
    "        self.rows = rows[1:]\n",
    "        for row in self.rows:\n",
    "            # alternative index number is -1\n",
    "            # solution: assigns back to same var row[12]. if new var used, it'll occupy new space in memory\n",
    "            row[12] = int(row[12])\n",
    "        \n",
    "        self.id_to_row = {}\n",
    "        for row in self.rows:\n",
    "            # assign 'row' to dictionary (includes the first column 'Id')\n",
    "            self.id_to_row[row[0]] = row\n",
    "            \n",
    "        self.prices = set()\n",
    "        for row in self.rows:\n",
    "            self.prices.add(row[12])\n",
    "            \n",
    "    def get_laptop_from_id(self, laptop_id):\n",
    "        for row in self.rows:\n",
    "            if row[0] == laptop_id:\n",
    "                return row\n",
    "        return None\n",
    "            \n",
    "    def get_laptop_from_id_fast(self, laptop_id):\n",
    "        if laptop_id in self.id_to_row:\n",
    "                return self.id_to_row[laptop_id]\n",
    "        return None\n",
    "    \n",
    "    def check_promotion_dollars(self, dollars):\n",
    "        for row in self.rows:\n",
    "            if row[12] == dollars:\n",
    "                return True\n",
    "            \n",
    "        for i in self.rows:\n",
    "            for j in self.rows:\n",
    "                if i[12] + j[12] == dollars:\n",
    "                    return True\n",
    "        \n",
    "        return False\n",
    "    \n",
    "    def check_promotion_dollars_fast(self, dollars):\n",
    "        if dollars in self.prices:\n",
    "            return True\n",
    "        \n",
    "        for price1 in self.prices:\n",
    "            # no double for loop is required / time complexity\n",
    "            #for price2 in self.prices: \n",
    "                #if price1 + price2 == dollars:\n",
    "            if dollars - price1 in self.prices:\n",
    "                    return True\n",
    "                \n",
    "        return False\n",
    "\n",
    "inventory = Inventory('laptops.csv')\n",
    "print(inventory.check_promotion_dollars_fast(1000))\n",
    "print(inventory.check_promotion_dollars_fast(442))"
   ]
  },
  {
   "cell_type": "markdown",
   "metadata": {},
   "source": [
    "# Comparing Promotion Functions\n",
    "\n",
    "**TO EDIT** The performance of the last two functions `check_promotion_dollars()` and `check_promotion_dollars_fast()` are compared."
   ]
  },
  {
   "cell_type": "code",
   "execution_count": 19,
   "metadata": {},
   "outputs": [
    {
     "name": "stdout",
     "output_type": "stream",
     "text": [
      "1.5784986019134521\n",
      "0.0009987354278564453\n"
     ]
    }
   ],
   "source": [
    "prices = [random.randint(100, 5000) for _ in range(100) ]\n",
    "\n",
    "inventory = Inventory('laptops.csv')\n",
    "\n",
    "total_time_no_set = 0\n",
    "\n",
    "for price in prices:\n",
    "    start = time.time()\n",
    "    inventory.check_promotion_dollars(price)\n",
    "    end = time.time()\n",
    "    total_time_no_set += end - start\n",
    "    \n",
    "total_time_set = 0\n",
    "\n",
    "for price in prices:\n",
    "    start = time.time()\n",
    "    inventory.check_promotion_dollars_fast(price)\n",
    "    end = time.time()\n",
    "    total_time_set += end - start\n",
    "    \n",
    "print(total_time_no_set)\n",
    "print(total_time_set)"
   ]
  },
  {
   "cell_type": "markdown",
   "metadata": {},
   "source": [
    "# Analysis\n",
    "\n",
    "The total time for the two methods are:\n",
    "* Without set: 1.5784986019134521\n",
    "* With set: 0.0009987354278564453\n",
    "\n",
    "There is a major improvement in the time taken to lookup the laptop prices using a set. If we divide *1.5785* by *0.0009*, the second method is about 1753 times faster for this input size."
   ]
  },
  {
   "cell_type": "markdown",
   "metadata": {},
   "source": []
  }
 ],
 "metadata": {
  "kernelspec": {
   "display_name": "Python 3",
   "language": "python",
   "name": "python3"
  },
  "language_info": {
   "codemirror_mode": {
    "name": "ipython",
    "version": 3
   },
   "file_extension": ".py",
   "mimetype": "text/x-python",
   "name": "python",
   "nbconvert_exporter": "python",
   "pygments_lexer": "ipython3",
   "version": "3.8.5"
  }
 },
 "nbformat": 4,
 "nbformat_minor": 4
}
