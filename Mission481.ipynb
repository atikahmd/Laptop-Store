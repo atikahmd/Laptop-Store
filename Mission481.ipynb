{
 "cells": [
  {
   "cell_type": "markdown",
   "metadata": {},
   "source": [
    "# Alyssa's Laptop Store: Inventory Analysis\n",
    "\n",
    "In this project, several questions regarding the store's inventory are addressed. A class is used whereby its method will execute queries that answer questions like:\n",
    "\n",
    "1. Given a laptop ID, find the corresponding data\n",
    "2. Find whether there are 2 laptops whose total price is equivalent to a given amount\n",
    "3. Identify all laptops whose price fall within a given budget\n",
    "\n",
    "\n",
    "# The Data Set\n",
    "\n",
    "The data set used here have modified laptop IDs and the prices are made to be in integers for analysis purposes. The original data set can be found on [Kaggle](https://www.kaggle.com/ionaskel/laptop-prices). \n",
    "\n",
    "The `laptops.csv` inventory data file is opened using context manager and read using the `csv` module. Once the rows are stored in list, the header and the rest of the file are split into `header` and `rows`."
   ]
  },
  {
   "cell_type": "code",
   "execution_count": 1,
   "metadata": {
    "scrolled": true
   },
   "outputs": [
    {
     "name": "stdout",
     "output_type": "stream",
     "text": [
      "['Id', 'Company', 'Product', 'TypeName', 'Inches', 'ScreenResolution', 'Cpu', 'Ram', 'Memory', 'Gpu', 'OpSys', 'Weight', 'Price']\n",
      "['6571244', 'Apple', 'MacBook Pro', 'Ultrabook', '13.3', 'IPS Panel Retina Display 2560x1600', 'Intel Core i5 2.3GHz', '8GB', '128GB SSD', 'Intel Iris Plus Graphics 640', 'macOS', '1.37kg', '1339']\n",
      "['7287764', 'Apple', 'Macbook Air', 'Ultrabook', '13.3', '1440x900', 'Intel Core i5 1.8GHz', '8GB', '128GB Flash Storage', 'Intel HD Graphics 6000', 'macOS', '1.34kg', '898']\n",
      "['3362737', 'HP', '250 G6', 'Notebook', '15.6', 'Full HD 1920x1080', 'Intel Core i5 7200U 2.5GHz', '8GB', '256GB SSD', 'Intel HD Graphics 620', 'No OS', '1.86kg', '575']\n",
      "['9722156', 'Apple', 'MacBook Pro', 'Ultrabook', '15.4', 'IPS Panel Retina Display 2880x1800', 'Intel Core i7 2.7GHz', '16GB', '512GB SSD', 'AMD Radeon Pro 455', 'macOS', '1.83kg', '2537']\n",
      "['8550527', 'Apple', 'MacBook Pro', 'Ultrabook', '13.3', 'IPS Panel Retina Display 2560x1600', 'Intel Core i5 3.1GHz', '8GB', '256GB SSD', 'Intel Iris Plus Graphics 650', 'macOS', '1.37kg', '1803']\n"
     ]
    }
   ],
   "source": [
    "import csv\n",
    "\n",
    "# Open file with context manager\n",
    "with open('laptops.csv') as laptop:\n",
    "    reader = csv.reader(laptop)\n",
    "    rows = list(reader)\n",
    "    header = rows[0]\n",
    "    rows = rows[1:]\n",
    "    \n",
    "print(header)\n",
    "for i in range(5):\n",
    "    print(rows[i])"
   ]
  },
  {
   "cell_type": "markdown",
   "metadata": {},
   "source": [
    "# Inventory Class Implementation\n",
    "\n",
    "The `Inventory` class represents the inventory and its methods will execute queries to answer the questions discussed above.\n",
    "\n",
    "In `__init__` method, the data type of column `price` is converted from string to integer.\n",
    "\n",
    "The header and length of the data set is printed to inspect columns &mdash; there are 13 columns and 1303 rows."
   ]
  },
  {
   "cell_type": "code",
   "execution_count": 2,
   "metadata": {},
   "outputs": [
    {
     "name": "stdout",
     "output_type": "stream",
     "text": [
      "['Id', 'Company', 'Product', 'TypeName', 'Inches', 'ScreenResolution', 'Cpu', 'Ram', 'Memory', 'Gpu', 'OpSys', 'Weight', 'Price']\n",
      "1303\n"
     ]
    }
   ],
   "source": [
    "class Inventory():\n",
    "    \n",
    "    def __init__(self, csv_filename):\n",
    "        with open(csv_filename) as laptop:\n",
    "            reader = csv.reader(laptop)\n",
    "            rows = list(reader)\n",
    "        self.header = rows[0]\n",
    "        self.rows = rows[1:]\n",
    "        for row in self.rows:\n",
    "            # alternative index number is -1\n",
    "            # solution: assigns back to same var row[12]. if new var used, it'll occupy new space in memory\n",
    "            row[12] = int(row[12])\n",
    "            \n",
    "inventory = Inventory('laptops.csv')\n",
    "print(inventory.header)\n",
    "print(len(inventory.rows))"
   ]
  },
  {
   "cell_type": "markdown",
   "metadata": {},
   "source": [
    "___QUESTION 1___\n",
    "# Laptop Search by ID\n",
    "\n",
    "When a customer comes to our store with a purchase slip, we need to look up for the laptop details quickly.\n",
    "\n",
    "An identifier or ID is passed as argument to the `get_laptop_from_id()` method and the function will return the row of data for laptop with the given ID. The first column (`Id`) in the data set is used here."
   ]
  },
  {
   "cell_type": "code",
   "execution_count": 3,
   "metadata": {},
   "outputs": [
    {
     "name": "stdout",
     "output_type": "stream",
     "text": [
      "['3362737', 'HP', '250 G6', 'Notebook', '15.6', 'Full HD 1920x1080', 'Intel Core i5 7200U 2.5GHz', '8GB', '256GB SSD', 'Intel HD Graphics 620', 'No OS', '1.86kg', 575]\n",
      "None\n"
     ]
    }
   ],
   "source": [
    "# version 1\n",
    "class Inventory():\n",
    "    \n",
    "    def __init__(self, csv_filename):\n",
    "        with open(csv_filename) as laptop:\n",
    "            reader = csv.reader(laptop)\n",
    "            rows = list(reader)\n",
    "        self.header = rows[0]\n",
    "        self.rows = rows[1:]\n",
    "        for row in self.rows:\n",
    "            # alternative index number is -1\n",
    "            # solution: assigns back to same var row[12]. if new var used, it'll occupy new space in memory\n",
    "            row[12] = int(row[12])\n",
    "            \n",
    "    def get_laptop_from_id(self, laptop_id):\n",
    "        for row in self.rows:\n",
    "            if row[0] == laptop_id:\n",
    "                return row\n",
    "        return None\n",
    "                \n",
    "inventory = Inventory('laptops.csv')\n",
    "print(inventory.get_laptop_from_id('3362737'))\n",
    "print(inventory.get_laptop_from_id('3362736'))"
   ]
  },
  {
   "cell_type": "markdown",
   "metadata": {},
   "source": [
    "# Improving ID Lookups\n",
    "\n",
    "In the `get_laptop_from_id()` method, it requires checking every row to find out whether or not a laptop exists &mdash; this has *O(R)* complexity. To improve ID lookups, data can be pre-processed. Normally, a set can be used to know if a row exists. However, in this case, we want to retrieve the laptop details (row); hence dictionary is used as it allows us to associate values to the keys (`Id`). The dictionary is pre-processed to map laptop IDs to rows."
   ]
  },
  {
   "cell_type": "code",
   "execution_count": 4,
   "metadata": {},
   "outputs": [
    {
     "name": "stdout",
     "output_type": "stream",
     "text": [
      "['3362737', 'HP', '250 G6', 'Notebook', '15.6', 'Full HD 1920x1080', 'Intel Core i5 7200U 2.5GHz', '8GB', '256GB SSD', 'Intel HD Graphics 620', 'No OS', '1.86kg', 575]\n",
      "None\n"
     ]
    }
   ],
   "source": [
    "# version 2\n",
    "class Inventory():\n",
    "    \n",
    "    def __init__(self, csv_filename):\n",
    "        with open(csv_filename) as laptop:\n",
    "            reader = csv.reader(laptop)\n",
    "            rows = list(reader)\n",
    "        self.header = rows[0]\n",
    "        self.rows = rows[1:]\n",
    "        for row in self.rows:\n",
    "            # alternative index number is -1\n",
    "            # solution: assigns back to same var row[12]. if new var used, it'll occupy new space in memory\n",
    "            row[12] = int(row[12])\n",
    "        self.id_to_row = {}\n",
    "        for row in self.rows:\n",
    "            # assign 'row' to dictionary (includes the first column 'Id')\n",
    "            self.id_to_row[row[0]] = row\n",
    "            \n",
    "    def get_laptop_from_id(self, laptop_id):\n",
    "        for row in self.rows:\n",
    "            if row[0] == laptop_id:\n",
    "                return row\n",
    "        return None\n",
    "            \n",
    "    def get_laptop_from_id_fast(self, laptop_id):\n",
    "        if laptop_id in self.id_to_row:\n",
    "                return self.id_to_row[laptop_id]\n",
    "        return None\n",
    "                \n",
    "inventory = Inventory('laptops.csv')\n",
    "print(inventory.get_laptop_from_id_fast('3362737'))\n",
    "print(inventory.get_laptop_from_id_fast('3362736'))"
   ]
  },
  {
   "cell_type": "markdown",
   "metadata": {},
   "source": [
    "As shown above, the `get_laptop_from_id_fast()` and `get_laptop_from_id()` methods return the same output.\n",
    "\n",
    "# Comparing the Performance\n",
    "\n",
    "To compare the performance of both methods, a random ID is generated and passed as arguments to both methods. The `time` module is used to measure the execution time of each lookup and for each method, total time taken is calculated."
   ]
  },
  {
   "cell_type": "code",
   "execution_count": 5,
   "metadata": {},
   "outputs": [
    {
     "name": "stdout",
     "output_type": "stream",
     "text": [
      "9.012355089187622\n",
      "0.028896331787109375\n"
     ]
    }
   ],
   "source": [
    "import time\n",
    "import random\n",
    "\n",
    "ids = str([random.randint(1000000, 9999999) for _ in range(10000) ])\n",
    "\n",
    "inventory = Inventory('laptops.csv')\n",
    "\n",
    "total_time_no_dict = 0\n",
    "\n",
    "# without dictionary\n",
    "for rand_id in ids:\n",
    "    start = time.time()\n",
    "    inventory.get_laptop_from_id(rand_id)\n",
    "    end = time.time()\n",
    "    total_time_no_dict += end - start\n",
    "\n",
    "total_time_dict = 0\n",
    "\n",
    "# with dictionary\n",
    "for rand_id in ids:\n",
    "    start = time.time()\n",
    "    inventory.get_laptop_from_id_fast(rand_id)\n",
    "    end = time.time()\n",
    "    total_time_dict += end - start\n",
    "\n",
    "print(total_time_no_dict)\n",
    "print(total_time_dict)"
   ]
  },
  {
   "cell_type": "markdown",
   "metadata": {},
   "source": [
    "# Result and Analysis\n",
    "\n",
    "The total time for the two methods are:\n",
    "* Without dictionary: 9.476078987121582\n",
    "* With dictionary: 0.020602703094482422\n",
    "\n",
    "There is a major improvement in the time taken to lookup the laptop data when dictionary is used. If we divide *9.476* by *0.021*, the second method is about 451 times faster for this input size."
   ]
  },
  {
   "cell_type": "markdown",
   "metadata": {},
   "source": [
    "___QUESTION 2___\n",
    "# Two Laptop Promotion\n",
    "\n",
    "Occasionally, the store offers promo in the form of gift cards. To eliminate the need to track customers' usage, the gift card is valid for one-time use only. Hence, we want to find out if the gift card value rewarded to customers can be fully redeemed in a single purchase by purchasing one or at most, two laptops.\n",
    "\n",
    "The `check_promotion_dollars()` method uses a double `for` loop to check if there are any two laptops whose total price is equal to the given gift card value."
   ]
  },
  {
   "cell_type": "code",
   "execution_count": 6,
   "metadata": {},
   "outputs": [
    {
     "name": "stdout",
     "output_type": "stream",
     "text": [
      "True\n",
      "False\n"
     ]
    }
   ],
   "source": [
    "# version 3\n",
    "class Inventory():\n",
    "    \n",
    "    def __init__(self, csv_filename):\n",
    "        with open(csv_filename) as laptop:\n",
    "            reader = csv.reader(laptop)\n",
    "            rows = list(reader)\n",
    "        self.header = rows[0]\n",
    "        self.rows = rows[1:]\n",
    "        for row in self.rows:\n",
    "            # alternative index number is -1\n",
    "            # solution: assigns back to same var row[12]. if new var used, it'll occupy new space in memory\n",
    "            row[12] = int(row[12])\n",
    "        \n",
    "        self.id_to_row = {}\n",
    "        for row in self.rows:\n",
    "            # assign 'row' to dictionary (includes the first column 'Id')\n",
    "            self.id_to_row[row[0]] = row\n",
    "            \n",
    "    def get_laptop_from_id(self, laptop_id):\n",
    "        for row in self.rows:\n",
    "            if row[0] == laptop_id:\n",
    "                return row\n",
    "        return None\n",
    "            \n",
    "    def get_laptop_from_id_fast(self, laptop_id):\n",
    "        if laptop_id in self.id_to_row:\n",
    "                return self.id_to_row[laptop_id]\n",
    "        return None\n",
    "    \n",
    "    def check_promotion_dollars(self, dollars):\n",
    "        for row in self.rows:\n",
    "            if row[12] == dollars:\n",
    "                return True\n",
    "            \n",
    "        for i in self.rows:\n",
    "            for j in self.rows:\n",
    "                if i[12] + j[12] == dollars:\n",
    "                    return True\n",
    "        \n",
    "        return False\n",
    "                \n",
    "inventory = Inventory('laptops.csv')\n",
    "print(inventory.check_promotion_dollars(1000))\n",
    "print(inventory.check_promotion_dollars(442))"
   ]
  },
  {
   "cell_type": "markdown",
   "metadata": {},
   "source": [
    "# Optimizing Laptop Promotion\n",
    "\n",
    "The purpose of the `check_promotion_dollars()` method is to check whether a customer can spend the exact amount in his gift card to purchase at most two laptops; no additional information needs to be displayed. To improve this, laptop prices can be extracted and stored in a set to make the query run faster &mdash; this is done in the `check_promotion_dollars_fast()` method."
   ]
  },
  {
   "cell_type": "code",
   "execution_count": 7,
   "metadata": {},
   "outputs": [
    {
     "name": "stdout",
     "output_type": "stream",
     "text": [
      "True\n",
      "False\n"
     ]
    }
   ],
   "source": [
    "# version 4\n",
    "class Inventory():\n",
    "    \n",
    "    def __init__(self, csv_filename):\n",
    "        with open(csv_filename) as laptop:\n",
    "            reader = csv.reader(laptop)\n",
    "            rows = list(reader)\n",
    "        self.header = rows[0]\n",
    "        self.rows = rows[1:]\n",
    "        for row in self.rows:\n",
    "            # alternative index number is -1\n",
    "            # solution: assigns back to same var row[12]. if new var used, it'll occupy new space in memory\n",
    "            row[12] = int(row[12])\n",
    "        \n",
    "        self.id_to_row = {}\n",
    "        for row in self.rows:\n",
    "            # assign 'row' to dictionary (includes the first column 'Id')\n",
    "            self.id_to_row[row[0]] = row\n",
    "            \n",
    "        self.prices = set()\n",
    "        for row in self.rows:\n",
    "            self.prices.add(row[12])\n",
    "            \n",
    "    def get_laptop_from_id(self, laptop_id):\n",
    "        for row in self.rows:\n",
    "            if row[0] == laptop_id:\n",
    "                return row\n",
    "        return None\n",
    "            \n",
    "    def get_laptop_from_id_fast(self, laptop_id):\n",
    "        if laptop_id in self.id_to_row:\n",
    "                return self.id_to_row[laptop_id]\n",
    "        return None\n",
    "    \n",
    "    def check_promotion_dollars(self, dollars):\n",
    "        for row in self.rows:\n",
    "            if row[12] == dollars:\n",
    "                return True\n",
    "            \n",
    "        for i in self.rows:\n",
    "            for j in self.rows:\n",
    "                if i[12] + j[12] == dollars:\n",
    "                    return True\n",
    "        \n",
    "        return False\n",
    "    \n",
    "    def check_promotion_dollars_fast(self, dollars):\n",
    "        if dollars in self.prices:\n",
    "            return True\n",
    "        \n",
    "        for price1 in self.prices:\n",
    "            # no double for loop is required / time complexity\n",
    "            #for price2 in self.prices: \n",
    "                #if price1 + price2 == dollars:\n",
    "            if dollars - price1 in self.prices:\n",
    "                    return True\n",
    "                \n",
    "        return False\n",
    "\n",
    "inventory = Inventory('laptops.csv')\n",
    "print(inventory.check_promotion_dollars_fast(1000))\n",
    "print(inventory.check_promotion_dollars_fast(442))"
   ]
  },
  {
   "cell_type": "markdown",
   "metadata": {},
   "source": [
    "# Comparing Promotion Functions\n",
    "\n",
    "To know the improvement rate on the performance of the `check_promotion_dollars()` and `check_promotion_dollars_fast()` methods, their execution times are measured. "
   ]
  },
  {
   "cell_type": "code",
   "execution_count": 8,
   "metadata": {},
   "outputs": [
    {
     "name": "stdout",
     "output_type": "stream",
     "text": [
      "2.2475242614746094\n",
      "0.0\n"
     ]
    }
   ],
   "source": [
    "prices = [random.randint(100, 5000) for _ in range(100) ]\n",
    "\n",
    "inventory = Inventory('laptops.csv')\n",
    "\n",
    "total_time_no_set = 0\n",
    "\n",
    "# without set\n",
    "for price in prices:\n",
    "    start = time.time()\n",
    "    inventory.check_promotion_dollars(price)\n",
    "    end = time.time()\n",
    "    total_time_no_set += end - start\n",
    "    \n",
    "total_time_set = 0\n",
    "\n",
    "# with set\n",
    "for price in prices:\n",
    "    start = time.time()\n",
    "    inventory.check_promotion_dollars_fast(price)\n",
    "    end = time.time()\n",
    "    total_time_set += end - start\n",
    "    \n",
    "print(total_time_no_set)\n",
    "print(total_time_set)"
   ]
  },
  {
   "cell_type": "markdown",
   "metadata": {},
   "source": [
    "# Result and Analysis\n",
    "\n",
    "The total time for the two methods are:\n",
    "* Without set: 1.5784986019134521\n",
    "* With set: 0.0009987354278564453\n",
    "\n",
    "There is a major improvement in the time taken to lookup the laptop prices using a set. If we divide *1.5785* by *0.0009*, the second method is about 1753 times faster for this input size."
   ]
  },
  {
   "cell_type": "markdown",
   "metadata": {},
   "source": [
    "___QUESTION 3___\n",
    "# Find Laptops within Budget\n",
    "\n",
    "For this question, given certain criteria, a modified **binary search** can be implemented to retrieve all laptops that fall within a given budget. The criteria include data is sorted (`sorted()` can achieve this) and that `key` is used to indicate that we want to sort by the `Price` column."
   ]
  },
  {
   "cell_type": "code",
   "execution_count": 11,
   "metadata": {},
   "outputs": [
    {
     "name": "stdout",
     "output_type": "stream",
     "text": [
      "683\n",
      "-1\n"
     ]
    }
   ],
   "source": [
    "# function to return price\n",
    "def row_price(row):\n",
    "    return row[12]\n",
    "\n",
    "# version 5\n",
    "class Inventory():\n",
    "    \n",
    "    def __init__(self, csv_filename):\n",
    "        with open(csv_filename) as laptop:\n",
    "            reader = csv.reader(laptop)\n",
    "            rows = list(reader)\n",
    "        self.header = rows[0]\n",
    "        self.rows = rows[1:]\n",
    "        for row in self.rows:\n",
    "            # alternative index number is -1\n",
    "            # solution: assigns back to same var row[12]. if new var used, it'll occupy new space in memory\n",
    "            row[12] = int(row[12])\n",
    "        \n",
    "        self.id_to_row = {}\n",
    "        for row in self.rows:\n",
    "            # assign 'row' to dictionary (includes the first column 'Id')\n",
    "            self.id_to_row[row[0]] = row\n",
    "            \n",
    "        self.prices = set()\n",
    "        for row in self.rows:\n",
    "            self.prices.add(row[12])\n",
    "            \n",
    "        # sort rows by price    \n",
    "        self.rows_by_price = sorted(self.rows, key=row_price)\n",
    "            \n",
    "    def get_laptop_from_id(self, laptop_id):\n",
    "        for row in self.rows:\n",
    "            if row[0] == laptop_id:\n",
    "                return row\n",
    "        return None\n",
    "            \n",
    "    def get_laptop_from_id_fast(self, laptop_id):\n",
    "        if laptop_id in self.id_to_row:\n",
    "                return self.id_to_row[laptop_id]\n",
    "        return None\n",
    "    \n",
    "    def check_promotion_dollars(self, dollars):\n",
    "        for row in self.rows:\n",
    "            if row[12] == dollars:\n",
    "                return True\n",
    "            \n",
    "        for i in self.rows:\n",
    "            for j in self.rows:\n",
    "                if i[12] + j[12] == dollars:\n",
    "                    return True\n",
    "        \n",
    "        return False\n",
    "    \n",
    "    def check_promotion_dollars_fast(self, dollars):\n",
    "        if dollars in self.prices:\n",
    "            return True\n",
    "        \n",
    "        for price1 in self.prices:\n",
    "            # no double for loop is required / time complexity\n",
    "            #for price2 in self.prices: \n",
    "                #if price1 + price2 == dollars:\n",
    "            if dollars - price1 in self.prices:\n",
    "                    return True\n",
    "                \n",
    "        return False\n",
    "    \n",
    "    # modified binary search\n",
    "    def find_first_laptop_more_expensive(self, budget_price):\n",
    "        range_start = 0                                   \n",
    "        range_end = len(self.rows_by_price) - 1                       \n",
    "        \n",
    "        while range_start < range_end:\n",
    "            range_middle = (range_end + range_start) // 2\n",
    "            # assign price of range_middle to var price\n",
    "            price = self.rows_by_price[range_middle][-1]\n",
    "            \n",
    "#            ORIGINAL BINARY SEARCH ALGO\n",
    "#             if price == budget_price:                            \n",
    "#                 return range_middle                        \n",
    "#             elif price < budget_price:                           \n",
    "#                 range_start = range_middle + 1             \n",
    "#             else:                                          \n",
    "#                 range_end = range_middle - 1\n",
    "            \n",
    "            if price <= budget_price:\n",
    "                # eliminate 1st half of list\n",
    "                range_start = range_middle + 1\n",
    "            else:\n",
    "                # eliminate 2nd half of list\n",
    "                range_end = range_middle\n",
    "                \n",
    "        price = self.rows_by_price[range_start][-1]\n",
    "        \n",
    "        if price < budget_price:                  \n",
    "            return -1                                      \n",
    "        return range_start \n",
    "\n",
    "inventory = Inventory('laptops.csv')\n",
    "print(inventory.find_first_laptop_more_expensive(1000))\n",
    "print(inventory.find_first_laptop_more_expensive(10000))"
   ]
  },
  {
   "cell_type": "markdown",
   "metadata": {},
   "source": [
    "# Summary\n",
    "\n",
    "The following is the summary of questions and the analysis conducted on the store's inventory data.\n",
    "\n",
    "## Question 1: Laptop Search by ID\n",
    "* Use dictionary as data row needs to be displayed\n",
    "* The method using dictionary executed about 451 times faster for the input size\n",
    "\n",
    "## Question 2: Two Laptop Promotion\n",
    "* Use set as data row does not need to be displayed\n",
    "* The method using set executed about 1753 times faster for the input size\n",
    "\n",
    "## Question 3: Find Laptops within Budget\n",
    "* Use modified binary search\n",
    "\n",
    "Each question is answered using a different approach and in this project, each approach is optimized for fast execution."
   ]
  }
 ],
 "metadata": {
  "kernelspec": {
   "display_name": "Python 3",
   "language": "python",
   "name": "python3"
  },
  "language_info": {
   "codemirror_mode": {
    "name": "ipython",
    "version": 3
   },
   "file_extension": ".py",
   "mimetype": "text/x-python",
   "name": "python",
   "nbconvert_exporter": "python",
   "pygments_lexer": "ipython3",
   "version": "3.8.5"
  }
 },
 "nbformat": 4,
 "nbformat_minor": 4
}
